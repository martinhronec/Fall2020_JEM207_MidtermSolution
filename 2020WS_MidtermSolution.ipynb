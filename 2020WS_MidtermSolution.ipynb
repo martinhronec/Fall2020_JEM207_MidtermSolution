{
 "cells": [
  {
   "cell_type": "markdown",
   "metadata": {},
   "source": [
    "## Midterm solution"
   ]
  },
  {
   "cell_type": "markdown",
   "metadata": {},
   "source": [
    "## Part 1 - Scraping - 5 points\n",
    "\n",
    "1. go to [WIKI](https://en.wikipedia.org/wiki/FTSE_100_Index)\n",
    "2. scrape the table and iterate over constituents:\n",
    "    - for each company save their ticker and the industry they operate in\n",
    "    - you will use this in the Data analysis part 3 for some basic processing.\n",
    ")"
   ]
  },
  {
   "cell_type": "code",
   "execution_count": 1,
   "metadata": {},
   "outputs": [],
   "source": [
    "import requests\n",
    "from bs4 import BeautifulSoup\n",
    "import pandas as pd"
   ]
  },
  {
   "cell_type": "code",
   "execution_count": 2,
   "metadata": {},
   "outputs": [],
   "source": [
    "r = requests.get('https://en.wikipedia.org/wiki/FTSE_100_Index')\n",
    "soup = BeautifulSoup(r.text,'lxml')"
   ]
  },
  {
   "cell_type": "code",
   "execution_count": 3,
   "metadata": {},
   "outputs": [],
   "source": [
    "table=soup.find('table',{'id':'constituents'}).find('tbody').findAll('tr')[1:]"
   ]
  },
  {
   "cell_type": "code",
   "execution_count": 4,
   "metadata": {},
   "outputs": [],
   "source": [
    "df_scraped = pd.DataFrame()\n",
    "for row in table:\n",
    "        title = row.find('a')['title']\n",
    "        ticker = row.findAll('td')[1].text\n",
    "        industry = row.findAll('td')[2].text.strip()\n",
    "        row_ = pd.Series({\"Ticker\":ticker,\"Industry\":industry},name=title)\n",
    "        df_scraped = pd.concat([df_scraped, row_], axis=1)\n",
    "df_scraped = df_scraped.T"
   ]
  },
  {
   "cell_type": "code",
   "execution_count": 5,
   "metadata": {},
   "outputs": [
    {
     "data": {
      "text/html": [
       "<div>\n",
       "<style scoped>\n",
       "    .dataframe tbody tr th:only-of-type {\n",
       "        vertical-align: middle;\n",
       "    }\n",
       "\n",
       "    .dataframe tbody tr th {\n",
       "        vertical-align: top;\n",
       "    }\n",
       "\n",
       "    .dataframe thead th {\n",
       "        text-align: right;\n",
       "    }\n",
       "</style>\n",
       "<table border=\"1\" class=\"dataframe\">\n",
       "  <thead>\n",
       "    <tr style=\"text-align: right;\">\n",
       "      <th></th>\n",
       "      <th>Ticker</th>\n",
       "      <th>Industry</th>\n",
       "    </tr>\n",
       "  </thead>\n",
       "  <tbody>\n",
       "    <tr>\n",
       "      <th>3i</th>\n",
       "      <td>III</td>\n",
       "      <td>Financial Services</td>\n",
       "    </tr>\n",
       "    <tr>\n",
       "      <th>Admiral Group</th>\n",
       "      <td>ADM</td>\n",
       "      <td>Nonlife Insurance</td>\n",
       "    </tr>\n",
       "    <tr>\n",
       "      <th>Anglo American plc</th>\n",
       "      <td>AAL</td>\n",
       "      <td>Mining</td>\n",
       "    </tr>\n",
       "    <tr>\n",
       "      <th>Antofagasta PLC</th>\n",
       "      <td>ANTO</td>\n",
       "      <td>Mining</td>\n",
       "    </tr>\n",
       "    <tr>\n",
       "      <th>Ashtead Group</th>\n",
       "      <td>AHT</td>\n",
       "      <td>Support Services</td>\n",
       "    </tr>\n",
       "    <tr>\n",
       "      <th>...</th>\n",
       "      <td>...</td>\n",
       "      <td>...</td>\n",
       "    </tr>\n",
       "    <tr>\n",
       "      <th>Unilever</th>\n",
       "      <td>ULVR</td>\n",
       "      <td>Personal Goods</td>\n",
       "    </tr>\n",
       "    <tr>\n",
       "      <th>United Utilities</th>\n",
       "      <td>UU.</td>\n",
       "      <td>Gas, Water &amp; Multi-utilities</td>\n",
       "    </tr>\n",
       "    <tr>\n",
       "      <th>Vodafone</th>\n",
       "      <td>VOD</td>\n",
       "      <td>Mobile Telecommunications</td>\n",
       "    </tr>\n",
       "    <tr>\n",
       "      <th>Whitbread</th>\n",
       "      <td>WTB</td>\n",
       "      <td>Retail hospitality</td>\n",
       "    </tr>\n",
       "    <tr>\n",
       "      <th>WPP plc</th>\n",
       "      <td>WPP</td>\n",
       "      <td>Media</td>\n",
       "    </tr>\n",
       "  </tbody>\n",
       "</table>\n",
       "<p>100 rows × 2 columns</p>\n",
       "</div>"
      ],
      "text/plain": [
       "                   Ticker                      Industry\n",
       "3i                    III            Financial Services\n",
       "Admiral Group         ADM             Nonlife Insurance\n",
       "Anglo American plc    AAL                        Mining\n",
       "Antofagasta PLC      ANTO                        Mining\n",
       "Ashtead Group         AHT              Support Services\n",
       "...                   ...                           ...\n",
       "Unilever             ULVR                Personal Goods\n",
       "United Utilities      UU.  Gas, Water & Multi-utilities\n",
       "Vodafone              VOD     Mobile Telecommunications\n",
       "Whitbread             WTB            Retail hospitality\n",
       "WPP plc               WPP                         Media\n",
       "\n",
       "[100 rows x 2 columns]"
      ]
     },
     "execution_count": 5,
     "metadata": {},
     "output_type": "execute_result"
    }
   ],
   "source": [
    "df_scraped"
   ]
  },
  {
   "cell_type": "markdown",
   "metadata": {},
   "source": [
    "## Part 2\n",
    "\n",
    "* In this part, you are expected to obtain a dataset from an API. There might be some obstacles. You need to complete the dataset and use it in part 3. If you do not manage it, you can obtain the dataset anyway, but you forfeit the points for this part. You might obtain some partial points if you do not complete the section.\n",
    "\n",
    "\n",
    "* API address: https://ies-midterm.soulution.rocks/\n",
    "    * if you receive an error, read the message! you might obtain an informative message\n",
    "    * if you see `{\"message\":\"Missing Authentication Token\"}`, then you are using a wrong request method on the endpoint. i.e. /login needs a POST, if you send a GET, you will see this. \n",
    "    \n",
    "**Tips:**\n",
    "* you might want to check the status code of the response for your request. Code 200 is good, everything else suggests a problem. Then you might want to print the text of the response, where you find out what is wrong\n",
    "* when you are sending a payload (if not sure, google how to send data with a request), make sure it is a properly formatted JSON string (you can check wiki what a JSON properly looks like - or a linter https://jsonlint.com/)\n",
    "* when receiving partial data; you might want to save them in a container after a successful call (you know each has 5 codes). Then you need to figure out how to merge those together in one object.\n",
    "\n",
    "\n",
    "\n",
    "\n",
    "| endpoint          | method allowed | payload required                                |\n",
    "|-------------------|----------------|-------------------------------------------------|\n",
    "| /login            | POST           | {“cuni”:”your_number”} as JSON-formatted string |\n",
    "| /data/{data_code} | GET            | -                                               |\n",
    "| /saveme           | POST           | {“cuni”:”your_number”} as JSON-formatted string |\n",
    "\n",
    "1. log in the API by sending a POST to /login endpoint\n",
    "    - use payload of JSON type string ‘{\"cuni\":\"yourCUNInumber\"}’ to authenticate\n",
    "    - print the personal_code you find in the response,\n",
    "    - save the list of codes for this is your generated dataset\n",
    "\n",
    "2. for each of the codes you received from /login, call send a GET to /data/{data_code} to receive a part of the dataset\n",
    "    - replace the second part of the path with the code, like /data/a12asda\n",
    "    - you will receive a JSON response with the name of the company it belongs to and data. Structure is:\n",
    "        - {“data”:{“company”:”IES”, “data”:[]}}\n",
    "    - note the name of the company wit\n",
    "    - API can return an error h 0.33 probability. Your job is to handle it.\n",
    "    \n"
   ]
  },
  {
   "cell_type": "code",
   "execution_count": 6,
   "metadata": {},
   "outputs": [],
   "source": [
    "import json\n",
    "import time"
   ]
  },
  {
   "cell_type": "code",
   "execution_count": 7,
   "metadata": {},
   "outputs": [],
   "source": [
    "payload = '{\"cuni\":\"53145055\"}'\n",
    "r = requests.post('https://ies-midterm.soulution.rocks/login',payload)"
   ]
  },
  {
   "cell_type": "code",
   "execution_count": 8,
   "metadata": {},
   "outputs": [
    {
     "data": {
      "text/plain": [
       "<Response [200]>"
      ]
     },
     "execution_count": 8,
     "metadata": {},
     "output_type": "execute_result"
    }
   ],
   "source": [
    "r"
   ]
  },
  {
   "cell_type": "code",
   "execution_count": 9,
   "metadata": {},
   "outputs": [],
   "source": [
    "d = json.loads(r.text)"
   ]
  },
  {
   "cell_type": "code",
   "execution_count": 10,
   "metadata": {},
   "outputs": [
    {
     "data": {
      "text/plain": [
       "'Hello, Martin bez Kytek! Good luck with the midterm. GET your data set from /data/file_id endpoint; use the codes you received in the data response as the file_id parameter! Print the personal code in your notebook.'"
      ]
     },
     "execution_count": 10,
     "metadata": {},
     "output_type": "execute_result"
    }
   ],
   "source": [
    "d['message']"
   ]
  },
  {
   "cell_type": "code",
   "execution_count": 11,
   "metadata": {},
   "outputs": [
    {
     "data": {
      "text/plain": [
       "'ba31997951'"
      ]
     },
     "execution_count": 11,
     "metadata": {},
     "output_type": "execute_result"
    }
   ],
   "source": [
    "d['data']['personal_code']"
   ]
  },
  {
   "cell_type": "code",
   "execution_count": 12,
   "metadata": {},
   "outputs": [],
   "source": [
    "codes = d['data']['dataset_ids'][0]"
   ]
  },
  {
   "cell_type": "code",
   "execution_count": 13,
   "metadata": {},
   "outputs": [
    {
     "data": {
      "text/plain": [
       "['24f88cb68c', 'f894683be9', '403c8fd1da', '3e8641892a', '288b147f95']"
      ]
     },
     "execution_count": 13,
     "metadata": {},
     "output_type": "execute_result"
    }
   ],
   "source": [
    "codes"
   ]
  },
  {
   "cell_type": "code",
   "execution_count": 14,
   "metadata": {},
   "outputs": [],
   "source": [
    "collector = {}\n",
    "n_attempts = 10\n",
    "for data_id in codes:\n",
    "    r = requests.get(url=f'https://ies-midterm.soulution.rocks/data/{data_id}')\n",
    "    i = 0\n",
    "    while r.status_code !=200:  \n",
    "        r=requests.get(url=f'https://ies-midterm.soulution.rocks/data/{data_id}')\n",
    "        time.sleep(1)\n",
    "    d=r.json()['data']\n",
    "    \n",
    "    ticker = d['company']\n",
    "    data = pd.DataFrame(d['data']).set_index('Date')\n",
    "    data.index = pd.to_datetime(data.index)\n",
    "    \n",
    "    collector[ticker] = data\n",
    "df = pd.concat(collector)\n",
    "df.index.names = ['Ticker','Date']\n",
    "df.dropna(how='all',inplace = True)\n",
    "df = df.apply(lambda x: pd.to_numeric(x))"
   ]
  },
  {
   "cell_type": "code",
   "execution_count": 15,
   "metadata": {},
   "outputs": [
    {
     "data": {
      "text/html": [
       "<div>\n",
       "<style scoped>\n",
       "    .dataframe tbody tr th:only-of-type {\n",
       "        vertical-align: middle;\n",
       "    }\n",
       "\n",
       "    .dataframe tbody tr th {\n",
       "        vertical-align: top;\n",
       "    }\n",
       "\n",
       "    .dataframe thead th {\n",
       "        text-align: right;\n",
       "    }\n",
       "</style>\n",
       "<table border=\"1\" class=\"dataframe\">\n",
       "  <thead>\n",
       "    <tr style=\"text-align: right;\">\n",
       "      <th></th>\n",
       "      <th></th>\n",
       "      <th>Open</th>\n",
       "      <th>High</th>\n",
       "      <th>Low</th>\n",
       "      <th>Close</th>\n",
       "      <th>Adj.Close</th>\n",
       "      <th>Volume</th>\n",
       "    </tr>\n",
       "    <tr>\n",
       "      <th>Ticker</th>\n",
       "      <th>Date</th>\n",
       "      <th></th>\n",
       "      <th></th>\n",
       "      <th></th>\n",
       "      <th></th>\n",
       "      <th></th>\n",
       "      <th></th>\n",
       "    </tr>\n",
       "  </thead>\n",
       "  <tbody>\n",
       "    <tr>\n",
       "      <th rowspan=\"5\" valign=\"top\">PSN</th>\n",
       "      <th>2019-05-08</th>\n",
       "      <td>30.650000</td>\n",
       "      <td>31.440001</td>\n",
       "      <td>29.200001</td>\n",
       "      <td>30.070000</td>\n",
       "      <td>30.070000</td>\n",
       "      <td>14793400</td>\n",
       "    </tr>\n",
       "    <tr>\n",
       "      <th>2019-05-09</th>\n",
       "      <td>29.639999</td>\n",
       "      <td>30.299999</td>\n",
       "      <td>29.030001</td>\n",
       "      <td>30.100000</td>\n",
       "      <td>30.100000</td>\n",
       "      <td>1719300</td>\n",
       "    </tr>\n",
       "    <tr>\n",
       "      <th>2019-05-10</th>\n",
       "      <td>29.889999</td>\n",
       "      <td>31.350000</td>\n",
       "      <td>29.500000</td>\n",
       "      <td>31.010000</td>\n",
       "      <td>31.010000</td>\n",
       "      <td>739700</td>\n",
       "    </tr>\n",
       "    <tr>\n",
       "      <th>2019-05-13</th>\n",
       "      <td>30.290001</td>\n",
       "      <td>31.670000</td>\n",
       "      <td>29.750000</td>\n",
       "      <td>31.059999</td>\n",
       "      <td>31.059999</td>\n",
       "      <td>1040700</td>\n",
       "    </tr>\n",
       "    <tr>\n",
       "      <th>2019-05-14</th>\n",
       "      <td>31.100000</td>\n",
       "      <td>32.599998</td>\n",
       "      <td>31.020000</td>\n",
       "      <td>31.750000</td>\n",
       "      <td>31.750000</td>\n",
       "      <td>2409100</td>\n",
       "    </tr>\n",
       "    <tr>\n",
       "      <th>...</th>\n",
       "      <th>...</th>\n",
       "      <td>...</td>\n",
       "      <td>...</td>\n",
       "      <td>...</td>\n",
       "      <td>...</td>\n",
       "      <td>...</td>\n",
       "      <td>...</td>\n",
       "    </tr>\n",
       "    <tr>\n",
       "      <th rowspan=\"5\" valign=\"top\">JET</th>\n",
       "      <th>2020-11-13</th>\n",
       "      <td>182.850006</td>\n",
       "      <td>182.850006</td>\n",
       "      <td>180.000000</td>\n",
       "      <td>182.500000</td>\n",
       "      <td>182.500000</td>\n",
       "      <td>1003</td>\n",
       "    </tr>\n",
       "    <tr>\n",
       "      <th>2020-11-16</th>\n",
       "      <td>182.850006</td>\n",
       "      <td>182.899994</td>\n",
       "      <td>180.050003</td>\n",
       "      <td>180.050003</td>\n",
       "      <td>180.050003</td>\n",
       "      <td>314</td>\n",
       "    </tr>\n",
       "    <tr>\n",
       "      <th>2020-11-17</th>\n",
       "      <td>182.899994</td>\n",
       "      <td>187.250000</td>\n",
       "      <td>182.000000</td>\n",
       "      <td>187.100006</td>\n",
       "      <td>187.100006</td>\n",
       "      <td>5393</td>\n",
       "    </tr>\n",
       "    <tr>\n",
       "      <th>2020-11-19</th>\n",
       "      <td>187.000000</td>\n",
       "      <td>193.500000</td>\n",
       "      <td>187.000000</td>\n",
       "      <td>191.949997</td>\n",
       "      <td>191.949997</td>\n",
       "      <td>6114</td>\n",
       "    </tr>\n",
       "    <tr>\n",
       "      <th>2020-11-20</th>\n",
       "      <td>190.000000</td>\n",
       "      <td>193.899994</td>\n",
       "      <td>187.550003</td>\n",
       "      <td>190.000000</td>\n",
       "      <td>190.000000</td>\n",
       "      <td>7498</td>\n",
       "    </tr>\n",
       "  </tbody>\n",
       "</table>\n",
       "<p>1820 rows × 6 columns</p>\n",
       "</div>"
      ],
      "text/plain": [
       "                         Open        High         Low       Close   Adj.Close  \\\n",
       "Ticker Date                                                                     \n",
       "PSN    2019-05-08   30.650000   31.440001   29.200001   30.070000   30.070000   \n",
       "       2019-05-09   29.639999   30.299999   29.030001   30.100000   30.100000   \n",
       "       2019-05-10   29.889999   31.350000   29.500000   31.010000   31.010000   \n",
       "       2019-05-13   30.290001   31.670000   29.750000   31.059999   31.059999   \n",
       "       2019-05-14   31.100000   32.599998   31.020000   31.750000   31.750000   \n",
       "...                       ...         ...         ...         ...         ...   \n",
       "JET    2020-11-13  182.850006  182.850006  180.000000  182.500000  182.500000   \n",
       "       2020-11-16  182.850006  182.899994  180.050003  180.050003  180.050003   \n",
       "       2020-11-17  182.899994  187.250000  182.000000  187.100006  187.100006   \n",
       "       2020-11-19  187.000000  193.500000  187.000000  191.949997  191.949997   \n",
       "       2020-11-20  190.000000  193.899994  187.550003  190.000000  190.000000   \n",
       "\n",
       "                     Volume  \n",
       "Ticker Date                  \n",
       "PSN    2019-05-08  14793400  \n",
       "       2019-05-09   1719300  \n",
       "       2019-05-10    739700  \n",
       "       2019-05-13   1040700  \n",
       "       2019-05-14   2409100  \n",
       "...                     ...  \n",
       "JET    2020-11-13      1003  \n",
       "       2020-11-16       314  \n",
       "       2020-11-17      5393  \n",
       "       2020-11-19      6114  \n",
       "       2020-11-20      7498  \n",
       "\n",
       "[1820 rows x 6 columns]"
      ]
     },
     "execution_count": 15,
     "metadata": {},
     "output_type": "execute_result"
    }
   ],
   "source": [
    "df"
   ]
  },
  {
   "cell_type": "markdown",
   "metadata": {},
   "source": [
    "## Part 3\n",
    "\n",
    "In this part, you can obtain up to 5 bonus points for hard tasks.\n",
    "We suggest creating a pandas DataFrame with the data. You might want to create a DF with dates on the index, and a column per company. \n",
    "\n",
    "Analyze scraping output:\n",
    "for the whole FTSE index:\n",
    "- find the most and least represented industries\n",
    "- create a histogram of the frequency of industries\n",
    "\n",
    "Analysis of your dataset - find the following quantities\n",
    "**per company**:\n",
    "- the time series should be from 2019-01-02 to 2020-11-20. Is it the case in your sample?\n",
    "- what is the highest and lowest Adj Close price the company recorded?\n",
    "- what day was the highest number of shares traded\n",
    "- what is the total of shares traded\n",
    "- for the company with the highest turnover of shares, plot their share price over time\n",
    "\n",
    "**Bonus tasks**:\n",
    "- when did the company record the highest gain and highest loss for the day? (logarithmic loss) - 1 point\n",
    "- plot the log returns for the company that has the largest difference between opening and closing price. What day and what company did it occur at? - 1 point\n",
    "- find monthly returns. Which company has the highest recorded? - 1 point\n",
    "- for stocks with full time series, calculate 10day volatility by calculating the standard deviation of the previous 10 days. (i.e. 10th day is the first observation and it includes given day) - 2 points\n"
   ]
  },
  {
   "cell_type": "markdown",
   "metadata": {},
   "source": [
    "### Scraped"
   ]
  },
  {
   "cell_type": "code",
   "execution_count": 16,
   "metadata": {},
   "outputs": [
    {
     "data": {
      "text/plain": [
       "'Support Services'"
      ]
     },
     "execution_count": 16,
     "metadata": {},
     "output_type": "execute_result"
    }
   ],
   "source": [
    "df_scraped['Industry'].value_counts().idxmax()"
   ]
  },
  {
   "cell_type": "code",
   "execution_count": 17,
   "metadata": {},
   "outputs": [
    {
     "data": {
      "text/plain": [
       "'Food Producers'"
      ]
     },
     "execution_count": 17,
     "metadata": {},
     "output_type": "execute_result"
    }
   ],
   "source": [
    "df_scraped['Industry'].value_counts().idxmin()"
   ]
  },
  {
   "cell_type": "code",
   "execution_count": 18,
   "metadata": {
    "collapsed": false,
    "jupyter": {
     "outputs_hidden": false
    }
   },
   "outputs": [
    {
     "data": {
      "text/plain": [
       "Support Services                       8\n",
       "Media                                  6\n",
       "Mining                                 6\n",
       "Life Insurance                         5\n",
       "Household Goods & Home Construction    5\n",
       "Financial Services                     5\n",
       "Banks                                  5\n",
       "Food & Drug Retailers                  4\n",
       "Real Estate Investment Trusts          3\n",
       "Pharmaceuticals & Biotechnology        3\n",
       "Travel & Leisure                       3\n",
       "Gas, Water & Multi-utilities           3\n",
       "General Industrials                    3\n",
       "Aerospace & Defence                    2\n",
       "General Retailers                      2\n",
       "Software and Computer Services         2\n",
       "Tobacco                                2\n",
       "Personal Goods                         2\n",
       "Software & Computer Services           2\n",
       "Retailers                              2\n",
       "Chemicals                              2\n",
       "Nonlife Insurance                      2\n",
       "Beverages                              2\n",
       "Oil & Gas Producers                    2\n",
       "Food Producers                         1\n",
       "Consumer services                      1\n",
       "Forestry & Paper                       1\n",
       "Health Care Equipment & Services       1\n",
       "Construction & Materials               1\n",
       "Mobile Telecommunications              1\n",
       "Water                                  1\n",
       "Fixed Line Telecommunications          1\n",
       "Travel and Leisure                     1\n",
       "Electronic & Electrical Equipment      1\n",
       "Equity Investment Instruments          1\n",
       "Electricity                            1\n",
       "Asset Managers                         1\n",
       "Automobiles & Parts                    1\n",
       "Retail hospitality                     1\n",
       "Investment Services                    1\n",
       "Industrial Engineering                 1\n",
       "Precious Metals and Mining             1\n",
       "Industrial Metals & Mining             1\n",
       "Name: Industry, dtype: int64"
      ]
     },
     "execution_count": 18,
     "metadata": {},
     "output_type": "execute_result"
    }
   ],
   "source": [
    "df_scraped['Industry'].value_counts()"
   ]
  },
  {
   "cell_type": "code",
   "execution_count": 19,
   "metadata": {},
   "outputs": [
    {
     "data": {
      "text/plain": [
       "3i                              Financial Services\n",
       "Admiral Group                    Nonlife Insurance\n",
       "Anglo American plc                          Mining\n",
       "Antofagasta PLC                             Mining\n",
       "Ashtead Group                     Support Services\n",
       "                                  ...             \n",
       "Unilever                            Personal Goods\n",
       "United Utilities      Gas, Water & Multi-utilities\n",
       "Vodafone                 Mobile Telecommunications\n",
       "Whitbread                       Retail hospitality\n",
       "WPP plc                                      Media\n",
       "Name: Industry, Length: 100, dtype: object"
      ]
     },
     "execution_count": 19,
     "metadata": {},
     "output_type": "execute_result"
    }
   ],
   "source": [
    "df_scraped['Industry']"
   ]
  },
  {
   "cell_type": "code",
   "execution_count": 20,
   "metadata": {},
   "outputs": [
    {
     "data": {
      "text/plain": [
       "<AxesSubplot:>"
      ]
     },
     "execution_count": 20,
     "metadata": {},
     "output_type": "execute_result"
    },
    {
     "data": {
      "image/png": "[encoded data removed]",
      "text/plain": [
       "<Figure size 432x288 with 1 Axes>"
      ]
     },
     "metadata": {
      "needs_background": "light"
     },
     "output_type": "display_data"
    }
   ],
   "source": [
    "df_scraped['Industry'].value_counts().plot(kind='bar')"
   ]
  },
  {
   "cell_type": "markdown",
   "metadata": {},
   "source": [
    "### From API"
   ]
  },
  {
   "cell_type": "code",
   "execution_count": 21,
   "metadata": {},
   "outputs": [
    {
     "data": {
      "text/plain": [
       "Ticker\n",
       "BHP   2019-01-02\n",
       "CPG   2019-01-02\n",
       "JET   2019-01-02\n",
       "PSN   2019-05-08\n",
       "RTO   2020-01-24\n",
       "Name: Date, dtype: datetime64[ns]"
      ]
     },
     "execution_count": 21,
     "metadata": {},
     "output_type": "execute_result"
    }
   ],
   "source": [
    "df.reset_index('Date')['Date'].groupby('Ticker').min()"
   ]
  },
  {
   "cell_type": "code",
   "execution_count": 22,
   "metadata": {},
   "outputs": [
    {
     "data": {
      "text/plain": [
       "Ticker\n",
       "BHP   2020-11-20\n",
       "CPG   2020-11-20\n",
       "JET   2020-11-20\n",
       "PSN   2020-11-20\n",
       "RTO   2020-01-24\n",
       "Name: Date, dtype: datetime64[ns]"
      ]
     },
     "execution_count": 22,
     "metadata": {},
     "output_type": "execute_result"
    }
   ],
   "source": [
    "df.reset_index('Date')['Date'].groupby('Ticker').max()"
   ]
  },
  {
   "cell_type": "code",
   "execution_count": 23,
   "metadata": {},
   "outputs": [
    {
     "data": {
      "text/plain": [
       "Ticker\n",
       "PSN      45.029999\n",
       "RTO    1865.000000\n",
       "CPG       4.765612\n",
       "BHP      56.848785\n",
       "JET     346.950012\n",
       "Name: Adj.Close, dtype: float64"
      ]
     },
     "execution_count": 23,
     "metadata": {},
     "output_type": "execute_result"
    }
   ],
   "source": [
    "df.groupby('Ticker')['Adj.Close'].max()"
   ]
  },
  {
   "cell_type": "code",
   "execution_count": 24,
   "metadata": {},
   "outputs": [
    {
     "data": {
      "text/plain": [
       "Ticker\n",
       "PSN      25.309999\n",
       "RTO    1865.000000\n",
       "CPG       0.608388\n",
       "BHP      30.326542\n",
       "JET     156.100006\n",
       "Name: Adj.Close, dtype: float64"
      ]
     },
     "execution_count": 24,
     "metadata": {},
     "output_type": "execute_result"
    }
   ],
   "source": [
    "df.groupby('Ticker')['Adj.Close'].min()"
   ]
  },
  {
   "cell_type": "code",
   "execution_count": 25,
   "metadata": {},
   "outputs": [
    {
     "data": {
      "text/plain": [
       "Ticker\n",
       "PSN    (PSN, 2019-05-08 00:00:00)\n",
       "RTO    (RTO, 2020-01-24 00:00:00)\n",
       "CPG    (CPG, 2020-05-18 00:00:00)\n",
       "BHP    (BHP, 2020-03-11 00:00:00)\n",
       "JET    (JET, 2020-01-09 00:00:00)\n",
       "Name: Volume, dtype: object"
      ]
     },
     "execution_count": 25,
     "metadata": {},
     "output_type": "execute_result"
    }
   ],
   "source": [
    "df.groupby('Ticker')['Volume'].idxmax()"
   ]
  },
  {
   "cell_type": "code",
   "execution_count": 26,
   "metadata": {},
   "outputs": [
    {
     "data": {
      "text/plain": [
       "Ticker\n",
       "PSN     168647400\n",
       "RTO             0\n",
       "CPG    1225230300\n",
       "BHP    1058997600\n",
       "JET        767178\n",
       "Name: Volume, dtype: int64"
      ]
     },
     "execution_count": 26,
     "metadata": {},
     "output_type": "execute_result"
    }
   ],
   "source": [
    "df.groupby('Ticker')['Volume'].sum() "
   ]
  },
  {
   "cell_type": "code",
   "execution_count": 27,
   "metadata": {},
   "outputs": [
    {
     "data": {
      "text/plain": [
       "<AxesSubplot:xlabel='Date'>"
      ]
     },
     "execution_count": 27,
     "metadata": {},
     "output_type": "execute_result"
    },
    {
     "data": {
      "image/png": "[encoded data removed]",
      "text/plain": [
       "<Figure size 432x288 with 1 Axes>"
      ]
     },
     "metadata": {
      "needs_background": "light"
     },
     "output_type": "display_data"
    }
   ],
   "source": [
    "df.loc['CPG',:]['Adj.Close'].plot()"
   ]
  },
  {
   "cell_type": "code",
   "execution_count": null,
   "metadata": {},
   "outputs": [],
   "source": []
  }
 ],
 "metadata": {
  "kernelspec": {
   "display_name": "Python 3",
   "language": "python",
   "name": "python3"
  },
  "language_info": {
   "codemirror_mode": {
    "name": "ipython",
    "version": 3
   },
   "file_extension": ".py",
   "mimetype": "text/x-python",
   "name": "python",
   "nbconvert_exporter": "python",
   "pygments_lexer": "ipython3",
   "version": "3.8.5"
  }
 },
 "nbformat": 4,
 "nbformat_minor": 4
}
